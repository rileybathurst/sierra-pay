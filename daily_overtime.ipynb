{
  "nbformat": 4,
  "nbformat_minor": 0,
  "metadata": {
    "colab": {
      "provenance": [],
      "include_colab_link": true
    },
    "kernelspec": {
      "name": "python3",
      "display_name": "Python 3"
    },
    "language_info": {
      "name": "python"
    }
  },
  "cells": [
    {
      "cell_type": "markdown",
      "metadata": {
        "id": "view-in-github",
        "colab_type": "text"
      },
      "source": [
        "<a href=\"https://colab.research.google.com/github/rileybathurst/sierra-pay/blob/main/daily_overtime.ipynb\" target=\"_parent\"><img src=\"https://colab.research.google.com/assets/colab-badge.svg\" alt=\"Open In Colab\"/></a>"
      ]
    },
    {
      "cell_type": "code",
      "source": [
        "from google.colab import drive\n",
        "drive.mount('/content/drive')"
      ],
      "metadata": {
        "id": "DvOhti65-wkb"
      },
      "execution_count": null,
      "outputs": []
    },
    {
      "cell_type": "code",
      "source": [
        "import pandas as pd\n",
        "import datetime"
      ],
      "metadata": {
        "id": "yptdzAmIppaY"
      },
      "execution_count": null,
      "outputs": []
    },
    {
      "cell_type": "code",
      "source": [
        "with open('/content/drive/MyDrive/Jobber Reports/.env', 'r') as f:\n",
        "    for line in f:\n",
        "        if 'exceptions' in line:\n",
        "            exceptions = line.strip()"
      ],
      "metadata": {
        "id": "pnUxsyWvB4Vi"
      },
      "execution_count": null,
      "outputs": []
    },
    {
      "cell_type": "code",
      "source": [
        "date_created = datetime.datetime.now()  # Get the current date and time\n",
        "date_str = date_created.strftime(\"%Y-%m-%d\")  # Format the date as a string"
      ],
      "metadata": {
        "id": "GPLpNvu9tqOv"
      },
      "execution_count": null,
      "outputs": []
    },
    {
      "cell_type": "code",
      "source": [
        "sierra = pd.read_csv(f\"/content/drive/MyDrive/Jobber Reports/Times_{date_str}.csv\", on_bad_lines='skip')"
      ],
      "metadata": {
        "id": "3m0R0RMJpqx9"
      },
      "execution_count": null,
      "outputs": []
    },
    {
      "cell_type": "code",
      "source": [
        "sierra"
      ],
      "metadata": {
        "id": "Io58Jskg_OtF"
      },
      "execution_count": null,
      "outputs": []
    },
    {
      "cell_type": "code",
      "source": [
        "# Get the unique names\n",
        "names = sierra[\"Name\"].unique()\n",
        "\n",
        "# Loop over each name\n",
        "for name in names:\n",
        "    # Filter the DataFrame for rows where the \"Name\" column is the current name\n",
        "    entries = sierra[sierra[\"Name\"] == name]\n",
        "\n",
        "    # Group by date and sum the hours\n",
        "    hours = entries.groupby(\"Date\")[\"Hours\"].sum()\n",
        "\n",
        "    # Loop over the hours Series\n",
        "    for date, total_hours in hours.items():\n",
        "        # If the name is in the exceptions file, use 8 hours as the limit\n",
        "        if name == exceptions:\n",
        "            limit = 8\n",
        "        else:\n",
        "            limit = 10\n",
        "\n",
        "        # If the total hours are more than the limit\n",
        "        if total_hours > limit:\n",
        "            # Calculate how much over the limit the person worked\n",
        "            over = round(total_hours - limit, 4)\n",
        "\n",
        "            # Print the date and how much over they were\n",
        "            print(f\"On {date}, {name} worked {over} hours over {limit} hours.\")"
      ],
      "metadata": {
        "id": "l3wNvaDSqNqV"
      },
      "execution_count": null,
      "outputs": []
    }
  ]
}