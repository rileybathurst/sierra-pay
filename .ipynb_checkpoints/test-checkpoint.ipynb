{
 "cells": [
  {
   "cell_type": "code",
   "execution_count": null,
   "id": "03fb2b4b-1d35-4103-a42d-5dabd3701d4f",
   "metadata": {
    "tags": [],
    "vscode": {
     "languageId": "python"
    }
   },
   "outputs": [],
   "source": [
    "import pandas as pd"
   ]
  },
  {
   "cell_type": "code",
   "execution_count": null,
   "id": "f5bf026e-dd91-4388-94c1-f8b6d9d3d982",
   "metadata": {
    "tags": [],
    "vscode": {
     "languageId": "python"
    }
   },
   "outputs": [],
   "source": [
    "df = pd.DataFrame(\n",
    "\n",
    "    {\n",
    "\n",
    "        \"Name\": [\n",
    "\n",
    "            \"Braund, Mr. Owen Harris\",\n",
    "\n",
    "            \"Allen, Mr. William Henry\",\n",
    "\n",
    "            \"Bonnell, Miss. Elizabeth\",\n",
    "\n",
    "        ],\n",
    "\n",
    "        \"Age\": [22, 35, 58],\n",
    "\n",
    "        \"Sex\": [\"male\", \"male\", \"female\"],\n",
    "\n",
    "    }\n",
    "\n",
    ")"
   ]
  },
  {
   "cell_type": "code",
   "execution_count": null,
   "id": "e66b610a-18be-444e-b927-cb1fc3e542ac",
   "metadata": {
    "tags": [],
    "vscode": {
     "languageId": "python"
    }
   },
   "outputs": [],
   "source": [
    "df"
   ]
  },
  {
   "cell_type": "code",
   "execution_count": null,
   "id": "ba31fc2a-5a5e-42e8-8399-0e0cc9da92f0",
   "metadata": {},
   "outputs": [],
   "source": []
  }
 ],
 "metadata": {
  "kernelspec": {
   "display_name": "Python 3 (ipykernel)",
   "language": "python",
   "name": "python3"
  },
  "language_info": {
   "name": ""
  },
  "toc-autonumbering": true,
  "toc-showcode": true
 },
 "nbformat": 4,
 "nbformat_minor": 5
}
