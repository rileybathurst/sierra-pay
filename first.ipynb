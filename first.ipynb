{
  "nbformat": 4,
  "nbformat_minor": 0,
  "metadata": {
    "colab": {
      "provenance": [],
      "include_colab_link": true
    },
    "kernelspec": {
      "name": "python3",
      "display_name": "Python 3"
    },
    "language_info": {
      "name": "python"
    }
  },
  "cells": [
    {
      "cell_type": "markdown",
      "metadata": {
        "id": "view-in-github",
        "colab_type": "text"
      },
      "source": [
        "<a href=\"https://colab.research.google.com/github/rileybathurst/sierra-pay/blob/main/first.ipynb\" target=\"_parent\"><img src=\"https://colab.research.google.com/assets/colab-badge.svg\" alt=\"Open In Colab\"/></a>"
      ]
    },
    {
      "cell_type": "code",
      "source": [
        "from google.colab import drive\n",
        "drive.mount('/content/drive')"
      ],
      "metadata": {
        "id": "DZN2Y2swj7Wx"
      },
      "execution_count": null,
      "outputs": []
    },
    {
      "cell_type": "code",
      "source": [
        "import csv\n",
        "import datetime"
      ],
      "metadata": {
        "id": "t_73aUbpokoc"
      },
      "execution_count": null,
      "outputs": []
    },
    {
      "cell_type": "code",
      "source": [
        "date_created = datetime.datetime.now()  # Get the current date and time\n",
        "date_str = date_created.strftime(\"%Y-%m-%d\")  # Format the date as a string"
      ],
      "metadata": {
        "id": "U0k-4BJwon1O"
      },
      "execution_count": null,
      "outputs": []
    },
    {
      "cell_type": "code",
      "source": [
        "header = \"Name\""
      ],
      "metadata": {
        "id": "VvRV2VsKotQx"
      },
      "execution_count": null,
      "outputs": []
    },
    {
      "cell_type": "code",
      "source": [
        "csvfile = open('/content/drive/MyDrive/Jobber Reports/Timesheets Report.csv', newline='')\n",
        "\n",
        "with csvfile, open(f'/content/drive/MyDrive/Jobber Reports/Times_{date_str}.csv', 'w', newline='') as output_file:\n",
        "    reader = csv.reader(csvfile)\n",
        "    writer = csv.writer(output_file)\n",
        "\n",
        "    # Skip rows until the header row is found\n",
        "    for row in reader:\n",
        "        if header in row:\n",
        "            break\n",
        "\n",
        "    # Write the header row to the output file\n",
        "    writer.writerow(row)\n",
        "\n",
        "    # Write the remaining rows to the output file\n",
        "    for row in reader:\n",
        "        writer.writerow(row)"
      ],
      "metadata": {
        "id": "wuL8gx6Poyp2"
      },
      "execution_count": null,
      "outputs": []
    }
  ]
}