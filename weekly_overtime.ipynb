{
  "nbformat": 4,
  "nbformat_minor": 0,
  "metadata": {
    "colab": {
      "provenance": [],
      "include_colab_link": true
    },
    "kernelspec": {
      "name": "python3",
      "display_name": "Python 3"
    },
    "language_info": {
      "name": "python"
    }
  },
  "cells": [
    {
      "cell_type": "markdown",
      "metadata": {
        "id": "view-in-github",
        "colab_type": "text"
      },
      "source": [
        "<a href=\"https://colab.research.google.com/github/rileybathurst/sierra-pay/blob/main/weekly_overtime.ipynb\" target=\"_parent\"><img src=\"https://colab.research.google.com/assets/colab-badge.svg\" alt=\"Open In Colab\"/></a>"
      ]
    },
    {
      "cell_type": "code",
      "execution_count": null,
      "metadata": {
        "id": "kQpP-qQZPXCK"
      },
      "outputs": [],
      "source": [
        "from google.colab import drive\n",
        "drive.mount('/content/drive')"
      ]
    },
    {
      "cell_type": "code",
      "source": [
        "import pandas as pd\n",
        "import datetime"
      ],
      "metadata": {
        "id": "yrrvEd2ePlyp"
      },
      "execution_count": null,
      "outputs": []
    },
    {
      "cell_type": "code",
      "source": [
        "date_created = datetime.datetime.now()  # Get the current date and time\n",
        "date_str = date_created.strftime(\"%Y-%m-%d\")  # Format the date as a string"
      ],
      "metadata": {
        "id": "aTr7KtjKRNA9"
      },
      "execution_count": null,
      "outputs": []
    },
    {
      "cell_type": "code",
      "source": [
        "sierra = pd.read_csv(f\"/content/drive/MyDrive/Jobber Reports/Times_{date_str}.csv\", on_bad_lines='skip')"
      ],
      "metadata": {
        "id": "ZZCTEOUNQz8S"
      },
      "execution_count": null,
      "outputs": []
    },
    {
      "cell_type": "code",
      "source": [
        "sierra.head()"
      ],
      "metadata": {
        "id": "HZywslfuQ1qi"
      },
      "execution_count": null,
      "outputs": []
    },
    {
      "cell_type": "code",
      "source": [
        "# Convert the \"Date\" column to a datetime type\n",
        "sierra[\"Date\"] = pd.to_datetime(sierra[\"Date\"])\n",
        "\n",
        "# Get the earliest and latest dates\n",
        "start_date = sierra[\"Date\"].min()\n",
        "end_date = sierra[\"Date\"].max()\n",
        "\n",
        "# Get the unique names\n",
        "names = sierra[\"Name\"].unique()\n",
        "\n",
        "# Get the day of the week for the start date\n",
        "start_day = start_date.day_name()\n",
        "\n",
        "# Generate a sequence of the first 7 dates from the start date\n",
        "first_7_days = pd.date_range(start=start_date, periods=7)\n",
        "\n",
        "# Generate a sequence of all dates from the start date to the end date\n",
        "all_dates = pd.date_range(start=start_date, end=end_date)\n",
        "\n",
        "# Loop over each date in the sequence\n",
        "for date in all_dates:\n",
        "    # If the date is a Monday\n",
        "    if date.day_name() == \"Monday\":\n",
        "        # Generate a sequence of 7 days starting from the date\n",
        "        week = pd.date_range(start=date, periods=7)\n",
        "\n",
        "        # Loop over each name\n",
        "        for name in names:\n",
        "            # Filter the DataFrame for rows where the \"Name\" column is the current name\n",
        "            entries = sierra[sierra[\"Name\"] == name]\n",
        "\n",
        "            # Filter for rows where the \"Date\" is in the week\n",
        "            week_entries = entries[entries[\"Date\"].isin(week)]\n",
        "\n",
        "            # Sum the hours for the week\n",
        "            total_hours = week_entries[\"Hours\"].sum()\n",
        "\n",
        "            # If the total hours are more than 40\n",
        "            if total_hours > 40:\n",
        "                # Print the name, total hours, and week start date without the time\n",
        "                print(f\"{name} worked {total_hours} hours in the week starting {date.strftime('%Y-%m-%d')}, which is more than 40 hours.\")"
      ],
      "metadata": {
        "id": "0j8cPDKSQ5lG"
      },
      "execution_count": null,
      "outputs": []
    }
  ]
}